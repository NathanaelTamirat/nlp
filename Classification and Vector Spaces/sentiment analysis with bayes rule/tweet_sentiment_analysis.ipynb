{
 "cells": [
  {
   "cell_type": "code",
   "execution_count": 11,
   "metadata": {},
   "outputs": [],
   "source": [
    "import numpy as np\n",
    "import matplotlib.pyplot as plt\n",
    "import pandas as pd\n",
    "import nltk \n",
    "import string\n",
    "import pdb\n",
    "import utils\n",
    "import bayes_test\n",
    "\n",
    "from nltk.corpus import twitter_samples\n",
    "from nltk.tokenize import TweetTokenizer\n",
    "from os import getcwd"
   ]
  },
  {
   "cell_type": "code",
   "execution_count": 12,
   "metadata": {},
   "outputs": [],
   "source": [
    "all_positive_tweets=twitter_samples.strings(\"positive_tweets.json\")\n",
    "all_negative_tweets=twitter_samples.strings(\"negative_tweets.json\")\n",
    "train_pos=all_positive_tweets[:4000]\n",
    "test_pos=all_negative_tweets[4000:]\n",
    "train_neg=all_negative_tweets[:4000]\n",
    "test_neg=all_negative_tweets[4000:]\n",
    "train_x=train_pos+train_neg\n",
    "test_x=test_pos+test_neg\n",
    "#label\n",
    "train_y=np.append(np.ones(len(train_pos)),np.zeros(len(train_neg))) \n",
    "test_y=np.append(np.ones(len(test_pos)),np.zeros(len(test_neg))) "
   ]
  },
  {
   "cell_type": "markdown",
   "metadata": {},
   "source": [
    "##### preprocessing"
   ]
  },
  {
   "cell_type": "code",
   "execution_count": 13,
   "metadata": {},
   "outputs": [
    {
     "name": "stdout",
     "output_type": "stream",
     "text": [
      "We don't like to keep our lovely customers waiting for long! We hope you enjoy! Happy Friday! - LWWF :) https://t.co/smyYriipxI\n"
     ]
    },
    {
     "data": {
      "text/plain": [
       "['like',\n",
       " 'keep',\n",
       " 'love',\n",
       " 'custom',\n",
       " 'wait',\n",
       " 'long',\n",
       " 'hope',\n",
       " 'enjoy',\n",
       " 'happi',\n",
       " 'friday',\n",
       " 'lwwf',\n",
       " ':)']"
      ]
     },
     "execution_count": 13,
     "metadata": {},
     "output_type": "execute_result"
    }
   ],
   "source": [
    "from utils import *\n",
    "print(train_x[6])\n",
    "process_tweet(train_x[6])"
   ]
  },
  {
   "cell_type": "code",
   "execution_count": 27,
   "metadata": {},
   "outputs": [],
   "source": [
    "def count_tweets(result,tweets,ys):\n",
    "    for y,tweet in zip(ys,tweets):\n",
    "        for word in process_tweet(tweet):\n",
    "            pair=(word,y)\n",
    "            if pair in result:\n",
    "                result[pair]+=1\n",
    "            else:\n",
    "                result[pair]=1\n",
    "    return result"
   ]
  },
  {
   "cell_type": "code",
   "execution_count": 28,
   "metadata": {},
   "outputs": [
    {
     "name": "stdout",
     "output_type": "stream",
     "text": [
      "\u001b[92m All tests passed\n"
     ]
    }
   ],
   "source": [
    "bayes_test.test_count_tweets(count_tweets)"
   ]
  },
  {
   "cell_type": "markdown",
   "metadata": {},
   "source": [
    "##### create freq"
   ]
  },
  {
   "cell_type": "code",
   "execution_count": 29,
   "metadata": {},
   "outputs": [
    {
     "data": {
      "text/plain": [
       "11427"
      ]
     },
     "execution_count": 29,
     "metadata": {},
     "output_type": "execute_result"
    }
   ],
   "source": [
    "freqs=count_tweets({},train_x,train_y)\n",
    "len(freqs)"
   ]
  },
  {
   "cell_type": "markdown",
   "metadata": {},
   "source": [
    "##### Train"
   ]
  },
  {
   "cell_type": "code",
   "execution_count": 30,
   "metadata": {},
   "outputs": [],
   "source": [
    "def train_bayes(freqs,train_x,train_y):\n",
    "    loglikelihood={}\n",
    "    logprior=0\n",
    "    \n",
    "    vocab={word:0 for word,sentiment in freqs.keys()}\n",
    "    V=len(vocab)\n",
    "\n",
    "    N_pos=0\n",
    "    N_neg=0\n",
    "    for pair in freqs.keys():\n",
    "        if pair[1]>0:\n",
    "            N_pos+=freqs[pair]\n",
    "        else:\n",
    "            N_neg+=freqs[pair]\n",
    "\n",
    "    D=len(train_x)\n",
    "    D_pos=np.sum(train_y==1)\n",
    "    D_neg=np.sum(train_y==0)\n",
    "    logprior=np.log(D_pos/D_neg)\n",
    "\n",
    "    for word in vocab.keys():\n",
    "        freq_pos=freqs.get((word,1),0)\n",
    "        freq_neg=freqs.get((word,0),0)\n",
    "\n",
    "        p_w_pos = (freq_pos+1)/(N_pos + V)\n",
    "        p_w_neg = (freq_neg+1)/(N_neg + V)\n",
    "\n",
    "        loglikelihood[word] = np.log(p_w_pos/p_w_neg)\n",
    "    return logprior, loglikelihood"
   ]
  },
  {
   "cell_type": "code",
   "execution_count": 31,
   "metadata": {},
   "outputs": [
    {
     "name": "stdout",
     "output_type": "stream",
     "text": [
      "0.0\n",
      "9161\n"
     ]
    }
   ],
   "source": [
    "logprior, loglikelihood = train_bayes(freqs, train_x, train_y)\n",
    "print(logprior)\n",
    "print(len(loglikelihood))"
   ]
  },
  {
   "cell_type": "markdown",
   "metadata": {},
   "source": [
    "##### test"
   ]
  },
  {
   "cell_type": "code",
   "execution_count": 33,
   "metadata": {},
   "outputs": [],
   "source": [
    "def naive_bayes_predict(tweet, logprior, loglikelihood):\n",
    "    word_l = process_tweet(tweet)\n",
    "    p = 0\n",
    "    p += logprior\n",
    "    for word in word_l:\n",
    "        if word in loglikelihood:\n",
    "            p += loglikelihood[word]\n",
    "    return p"
   ]
  },
  {
   "cell_type": "code",
   "execution_count": 35,
   "metadata": {},
   "outputs": [
    {
     "name": "stdout",
     "output_type": "stream",
     "text": [
      "\u001b[92m All tests passed\n"
     ]
    }
   ],
   "source": [
    "bayes_test.test_naive_bayes_predict(naive_bayes_predict)"
   ]
  },
  {
   "cell_type": "code",
   "execution_count": 36,
   "metadata": {},
   "outputs": [
    {
     "name": "stdout",
     "output_type": "stream",
     "text": [
      "The expected output is 1.557492820301094\n"
     ]
    }
   ],
   "source": [
    "my_tweet = 'She smiled.'\n",
    "p = naive_bayes_predict(my_tweet, logprior, loglikelihood)\n",
    "print('The expected output is', p)"
   ]
  },
  {
   "cell_type": "code",
   "execution_count": null,
   "metadata": {},
   "outputs": [],
   "source": [
    "def test_naive_bayes(test_x, test_y, logprior, loglikelihood, naive_bayes_predict=naive_bayes_predict):\n",
    "    accuracy = 0\n",
    "    y_hats = []\n",
    "    for tweet in test_x:\n",
    "        if naive_bayes_predict(tweet, logprior, loglikelihood) > 0:\n",
    "            y_hat_i = 1\n",
    "        else:\n",
    "            y_hat_i = 0\n",
    "        y_hats.append(y_hat_i)\n",
    "    error = np.sum(abs(y_hats-test_y))/len(y_hats)\n",
    "    accuracy = 1-error\n",
    "    return accuracy"
   ]
  }
 ],
 "metadata": {
  "kernelspec": {
   "display_name": ".venv",
   "language": "python",
   "name": "python3"
  },
  "language_info": {
   "codemirror_mode": {
    "name": "ipython",
    "version": 3
   },
   "file_extension": ".py",
   "mimetype": "text/x-python",
   "name": "python",
   "nbconvert_exporter": "python",
   "pygments_lexer": "ipython3",
   "version": "3.12.3"
  }
 },
 "nbformat": 4,
 "nbformat_minor": 2
}
